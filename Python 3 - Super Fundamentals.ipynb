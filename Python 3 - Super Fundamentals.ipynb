{
 "cells": [
  {
   "cell_type": "markdown",
   "metadata": {},
   "source": [
    "**Super fundamentals of python programming\"\n",
    "-Manoj \n",
    "-Carleton Univeristy"
   ]
  },
  {
   "cell_type": "code",
   "execution_count": 7,
   "metadata": {},
   "outputs": [
    {
     "name": "stdout",
     "output_type": "stream",
     "text": [
      "['False', 'None', 'True', 'and', 'as', 'assert', 'async', 'await', 'break', 'class', 'continue', 'def', 'del', 'elif', 'else', 'except', 'finally', 'for', 'from', 'global', 'if', 'import', 'in', 'is', 'lambda', 'nonlocal', 'not', 'or', 'pass', 'raise', 'return', 'try', 'while', 'with', 'yield']\n",
      "35\n"
     ]
    }
   ],
   "source": [
    "import keyword\n",
    "print(keyword.kwlist)\n",
    "print(len(keyword.kwlist))"
   ]
  },
  {
   "cell_type": "code",
   "execution_count": 25,
   "metadata": {},
   "outputs": [
    {
     "name": "stdout",
     "output_type": "stream",
     "text": [
      "testing the comments\n"
     ]
    }
   ],
   "source": [
    "#single line comment\n",
    "print(\"testing the comments\")\n",
    "\n",
    "#no multiline comments...its just only one type in python\n"
   ]
  },
  {
   "cell_type": "code",
   "execution_count": 26,
   "metadata": {},
   "outputs": [
    {
     "name": "stdout",
     "output_type": "stream",
     "text": [
      "10\n",
      "35\n",
      "50\n",
      "(11+12j) abc\n",
      "id of b is... 818527054832\n",
      "10 is of type <class 'int'> (11+12j) is of type <class 'complex'>\n"
     ]
    }
   ],
   "source": [
    "#understading statements\n",
    "#3 types as below\n",
    "a=10\n",
    "print (a) #basic\n",
    "\n",
    "b=(1+2+3+\n",
    "   4+5*5) #using paranthesis\n",
    "print (b)\n",
    "\n",
    "c=20;e=30;f=50; #multiple statement using ;\n",
    "print(f)\n",
    "\n",
    "#mutiple assignments\n",
    "a,b,c =10,11+12j,\"abc\"\n",
    "print(b,c)\n",
    "\n",
    "#storage or address location\n",
    "print(\"id of b is...\", id(b))\n",
    "\n",
    "print(a, \"is of type\", type(a), b, \"is of type\", type(b))\n"
   ]
  },
  {
   "cell_type": "code",
   "execution_count": 40,
   "metadata": {},
   "outputs": [
    {
     "name": "stdout",
     "output_type": "stream",
     "text": [
      "A\n",
      "o\n",
      "be a super hero\n"
     ]
    },
    {
     "data": {
      "text/plain": [
       "'super'"
      ]
     },
     "execution_count": 40,
     "metadata": {},
     "output_type": "execute_result"
    }
   ],
   "source": [
    "#working with strings\n",
    "mystring=\"\"\"Anyone can be a super hero\"\"\"\n",
    "print(mystring[0])\n",
    "\n",
    "print(mystring[len(mystring)-1])\n",
    "\n",
    "#slicing****important\n",
    "print(mystring[11:])  #from till end\n",
    "\n",
    "mystring[16:21]   #from 11 to 21\n"
   ]
  },
  {
   "cell_type": "code",
   "execution_count": 50,
   "metadata": {},
   "outputs": [
    {
     "name": "stdout",
     "output_type": "stream",
     "text": [
      "Batman\n",
      "20.5\n",
      "[10, 30.7, 'Batman']\n",
      "first set is {10, 20, 30}\n",
      "set is unordered unlike list or tuples {5, 40, 10, 20, 30}\n",
      "you cannot print single element from set; because it is unordered \n"
     ]
    }
   ],
   "source": [
    "#lists AND tuples\n",
    "#List is an ordered sequence of items. It is one of the most used datatype in Python and is very flexible. \n",
    "#All the items in a list do not need to be of the same type.\n",
    "#Declaring a list is , Items separated by commas are enclosed within brackets [ ].\n",
    "\n",
    "a = [10, 20.5, \"Batman\"]\n",
    "print(a[2]) #Lists are mutable, meaning, value of elements of a list can be altered.\n",
    "print(a[1])\n",
    "a[1] = 30.7\n",
    "print(a)\n",
    "\n",
    "#tuples\n",
    "#same as tuples but \n",
    "#1.)cant be altered like a[1] in the above list\n",
    "#2.)they uses round brackets not the square one; if square-list; if curve-it tuple (pronounced-taple)\n",
    "#Error; it wont support item assignment\n",
    "\n",
    "#sets\n",
    "#1.as you know sets uses {} early maths like union, intersections..etc\n",
    "#2.therefore, it will have unique values\n",
    "s = {10, 20, 20, 30, 30, 30}\n",
    "print(\"first set is\", s) \n",
    "a = {10, 30, 20, 40, 5}\n",
    "print(\"set is unordered unlike list or tuples\", a)\n",
    "print(\"you cannot print single element from set; because it is unordered \")"
   ]
  },
  {
   "cell_type": "code",
   "execution_count": 57,
   "metadata": {},
   "outputs": [
    {
     "name": "stdout",
     "output_type": "stream",
     "text": [
      "Manoj\n"
     ]
    }
   ],
   "source": [
    "#Dictionaries \n",
    "#Dictionary is an unordered collection of key-value pairs.\n",
    "#keys(a) and values(apple)\n",
    "#In Python, dictionaries are defined within braces {} with each item being a pair in the form key:value. Key and value can be of any type.\n",
    "d = {'a': \"Manoj\", 'b': \"Batman\"}\n",
    "print (d['a'])\n"
   ]
  },
  {
   "cell_type": "code",
   "execution_count": 66,
   "metadata": {},
   "outputs": [
    {
     "ename": "ValueError",
     "evalue": "invalid literal for int() with base 10: 'abcd'",
     "output_type": "error",
     "traceback": [
      "\u001b[1;31m---------------------------------------------------------------------------\u001b[0m",
      "\u001b[1;31mValueError\u001b[0m                                Traceback (most recent call last)",
      "\u001b[1;32m<ipython-input-66-c8ab34e73e39>\u001b[0m in \u001b[0;36m<module>\u001b[1;34m\u001b[0m\n\u001b[0;32m      5\u001b[0m \u001b[0mfloat\u001b[0m\u001b[1;33m(\u001b[0m\u001b[1;36m2.2929292929292929292929292929292292\u001b[0m\u001b[1;33m)\u001b[0m\u001b[1;31m#printed 15 after decimal\u001b[0m\u001b[1;33m\u001b[0m\u001b[1;33m\u001b[0m\u001b[0m\n\u001b[0;32m      6\u001b[0m \u001b[0mstr\u001b[0m\u001b[1;33m(\u001b[0m\u001b[1;36m8055\u001b[0m\u001b[1;33m)\u001b[0m  \u001b[1;31m#it will show 8055 but it not int anymore;\u001b[0m\u001b[1;33m\u001b[0m\u001b[1;33m\u001b[0m\u001b[0m\n\u001b[1;32m----> 7\u001b[1;33m \u001b[0mint\u001b[0m\u001b[1;33m(\u001b[0m\u001b[1;34m\"abcd\"\u001b[0m\u001b[1;33m)\u001b[0m\u001b[1;33m\u001b[0m\u001b[1;33m\u001b[0m\u001b[0m\n\u001b[0m",
      "\u001b[1;31mValueError\u001b[0m: invalid literal for int() with base 10: 'abcd'"
     ]
    }
   ],
   "source": [
    "#typecasting\n",
    "float(5)\n",
    "int(5.5)\n",
    "float(2)\n",
    "float(2.2929292929292929292929292929292292)#printed 15 after decimal\n",
    "str(8055)  #it will show 8055 but it is not int anymore; \n",
    "#int(\"abcd\")  you cannot do this either; converting string to int"
   ]
  },
  {
   "cell_type": "code",
   "execution_count": 71,
   "metadata": {},
   "outputs": [
    {
     "name": "stdout",
     "output_type": "stream",
     "text": [
      "You have to know something, Manoj is the new Batman and he killed 100 badguys as of now\n"
     ]
    }
   ],
   "source": [
    "#use of type converting\n",
    "\n",
    "user=\"Manoj\"\n",
    "villans=100\n",
    "print(\"You have to know something, \"+ user + \" is the new Batman and he killed \"+str(villans)+\" badguys as of now\")"
   ]
  },
  {
   "cell_type": "code",
   "execution_count": 72,
   "metadata": {},
   "outputs": [
    {
     "name": "stdout",
     "output_type": "stream",
     "text": [
      "<class 'list'>\n",
      "<class 'set'>\n"
     ]
    }
   ],
   "source": [
    "#you can also convert the formats; even you can convert strings in lists\n",
    "a = [1, 2, 3]\n",
    "\n",
    "print(type(a))      #type of a is list \n",
    "\n",
    "s = set(a)          #convert list to set using set() method\n",
    "\n",
    "print(type(s))      #now type of s is set"
   ]
  },
  {
   "cell_type": "markdown",
   "metadata": {},
   "source": [
    "**Output Formatting**\n",
    "In the below cell I'm going to show you, the output formatting. If you are developing an application or even if its a personal project, you should defnetly know how to format the outputs or available texts. I have done text formatting in my other repository 'ABP simulator' using C language. Honestly, formatting text in python is easier than any other language. So lets see.."
   ]
  },
  {
   "cell_type": "code",
   "execution_count": 79,
   "metadata": {},
   "outputs": [
    {
     "name": "stdout",
     "output_type": "stream",
     "text": [
      "The value of b is 24 and the value of a is 8055\n",
      "Manoj is the new Batman\n",
      "Manoj please save the 8055, be a BATMAN again\n"
     ]
    }
   ],
   "source": [
    "#output_formatting*\n",
    "\n",
    "a=8055;b=24\n",
    "print(\"The value of b is {1} and the value of a is {0}\".format(a,b))\n",
    "\n",
    "name=\"Manoj\"\n",
    "hero=\"Batman\"\n",
    "print(\"{} is the new {}\".format(name,hero))#you can also assign strings directly in this line...\n",
    "\n",
    "print(\"{1} please save the {0}, be a {hero} again\".format(a,name,hero='BATMAN')) #Key word args + positional args; both are used here; str should be defined in format section\n",
    "\n"
   ]
  },
  {
   "cell_type": "code",
   "execution_count": 80,
   "metadata": {},
   "outputs": [
    {
     "name": "stdout",
     "output_type": "stream",
     "text": [
      "Please enter the name....:Manoj the boss\n",
      "Manoj the boss\n"
     ]
    }
   ],
   "source": [
    "Name=input(\"Please enter the name....:\")\n",
    "print(Name)"
   ]
  },
  {
   "cell_type": "code",
   "execution_count": 89,
   "metadata": {},
   "outputs": [
    {
     "name": "stdout",
     "output_type": "stream",
     "text": [
      "You are something\n"
     ]
    }
   ],
   "source": [
    "#A basic implementation of if and elif program\n",
    "    \n",
    "number=1\n",
    "if number==0:\n",
    "    print(\"You are nothing\")\n",
    "elif number<0:\n",
    "    print(\"You are not even nothing\")\n",
    "else:\n",
    "    print(\"You are something\")"
   ]
  },
  {
   "cell_type": "markdown",
   "metadata": {},
   "source": [
    "**Python While and For loops**\n",
    "\n",
    "I have seen many of students are okay to write a looping code either with 'for' or 'while', but they often struggle when asked to use 'while' instead of 'for' loop or vice versa.\n",
    "\n",
    "In the upcomming jupyter notebook cells; I'm going to take simple logic and apply the same logic for both 'while' and 'for' loops"
   ]
  },
  {
   "cell_type": "code",
   "execution_count": 3,
   "metadata": {},
   "outputs": [
    {
     "name": "stdout",
     "output_type": "stream",
     "text": [
      "Enter a number: 14\n",
      "14 is divisible by 2\n",
      "14 is divisible by 7\n",
      "14 is NOT a Prime number\n"
     ]
    }
   ],
   "source": [
    "num = int(input(\"Enter a number: \"))        #convert string to int\n",
    "\n",
    "\n",
    "isDivisible = False;\n",
    "\n",
    "i=2;\n",
    "while i < num:\n",
    "    if num % i == 0:\n",
    "        isDivisible = True;\n",
    "        print (\"{} is divisible by {}\".format(num,i) )\n",
    "    i += 1;\n",
    "    \n",
    "if isDivisible:\n",
    "    print(\"{} is NOT a Prime number\".format(num))\n",
    "else:\n",
    "    print(\"{} is a Prime number\".format(num))"
   ]
  },
  {
   "cell_type": "code",
   "execution_count": null,
   "metadata": {
    "scrolled": true
   },
   "outputs": [],
   "source": [
    "list1=['Manoj','Batman','He','is','alone']\n",
    "for ele in list1:\n",
    "    print(ele)\n",
    "#for names in range(len(list1)):\n",
    "    #print(list1[names])\n",
    "    \n",
    "#both will work!!"
   ]
  },
  {
   "cell_type": "markdown",
   "metadata": {},
   "source": [
    "**While loop** demontration using prime number example.\n",
    "\n",
    "Things to notice\n",
    "\n",
    "1.Proper logic (Just like C,C++, Java or anyother)\n",
    "\n",
    "2.**Syntax**"
   ]
  },
  {
   "cell_type": "code",
   "execution_count": null,
   "metadata": {},
   "outputs": [],
   "source": [
    "n=int(input(\"Enter the number: \")) #converting string to int\n",
    "i=2\n",
    "Isdivisible=False\n",
    "while i<n:\n",
    "    if n%i==0:\n",
    "        Isdivisible=True;\n",
    "        print(\"It is divisible by {}\".format(i))\n",
    "    i+=1\n",
    "if Isdivisible is True:\n",
    "    print(\"The given number is not prime\")\n",
    "else:\n",
    "    print(\"Given number is prime\")"
   ]
  },
  {
   "cell_type": "code",
   "execution_count": null,
   "metadata": {},
   "outputs": [],
   "source": [
    "firstnum=10\n",
    "lastnum=100\n",
    "Isdivisible=False\n",
    "\n",
    "for n in range(firstnum,lastnum):\n",
    "    if n>1:\n",
    "    for i in range(2,n):\n",
    "        if n%i==0:\n",
    "            Isdivisible=True;\n",
    "        else:\n",
    "            print(n)\n",
    "                    "
   ]
  },
  {
   "cell_type": "markdown",
   "metadata": {},
   "source": [
    "Print prime number in a certain given range\n",
    "\n",
    "Below program is a tricky nested for loop, we have do a bit of thinking and it tests your knowledge on looping and syntax (suggested to try without going through the below program)"
   ]
  },
  {
   "cell_type": "code",
   "execution_count": 24,
   "metadata": {
    "scrolled": true
   },
   "outputs": [
    {
     "name": "stdout",
     "output_type": "stream",
     "text": [
      "Prime numbers in the given range are..\n",
      "23\n",
      "29\n",
      "31\n",
      "37\n",
      "41\n",
      "43\n",
      "47\n"
     ]
    }
   ],
   "source": [
    "limit1 = 20\n",
    "limit2 = 50\n",
    "print(\"Prime numbers in the given range are..\")\n",
    "\n",
    "for n in range(limit1, limit2+1):      #default step size is 1\n",
    "    if n > 1:\n",
    "        isDivisible = False;\n",
    "        for index in range(2, n):\n",
    "            if n % index == 0:\n",
    "                isDivisible = True;\n",
    "        if not isDivisible:        \n",
    "            print(n);\n",
    "    "
   ]
  },
  {
   "cell_type": "markdown",
   "metadata": {},
   "source": [
    "Alright!, lets take a **BREAK** and **CONTINUE** later; I'm not kidding, but we are not going anywhere till we apply our python knowledge into real world action. As a small correction,  we gonna 'use' **BREAK** and later **CONTINUE**"
   ]
  },
  {
   "cell_type": "markdown",
   "metadata": {},
   "source": [
    "In the above program, there are lot of unnessasary iterations, for an non prime number, if you observe. Here, I'm gonna add one one small word, which is **Break** and I bet you will be fascinated by the improvement in efficiency in the program. And again, this is not something new if you know C or C++ or Java or anyother..."
   ]
  },
  {
   "cell_type": "code",
   "execution_count": null,
   "metadata": {
    "scrolled": false
   },
   "outputs": [],
   "source": [
    "n=int(input(\"Enter the number: \")) #converting string to int\n",
    "i=2\n",
    "Isdivisible=False\n",
    "while i<n:\n",
    "    if n%i==0:\n",
    "        Isdivisible=True;\n",
    "        break;\n",
    "        print(\"It is divisible by {}\".format(i))\n",
    "    i+=1\n",
    "if Isdivisible is True:\n",
    "    print(\"The given number is not prime\")\n",
    "else:\n",
    "    print(\"Given number is prime\")"
   ]
  },
  {
   "cell_type": "markdown",
   "metadata": {},
   "source": [
    "What do you observe from the above 'Break' program? What do you think the reason behind not printing \"Is divisible\" line? If you know answer for this, congrats, you perfectly know what a **break** statement used for."
   ]
  },
  {
   "cell_type": "markdown",
   "metadata": {},
   "source": [
    "Similar, interesting case for 'continue' as well, you can simple avoid unwanted outputs. An example is shown below for better understanding.  "
   ]
  },
  {
   "cell_type": "code",
   "execution_count": 18,
   "metadata": {},
   "outputs": [
    {
     "name": "stdout",
     "output_type": "stream",
     "text": [
      "5\n",
      "5\n",
      "else-block\n"
     ]
    }
   ],
   "source": [
    "number=[8,0,5,5]\n",
    "for num in number:\n",
    "    if num%2==0:\n",
    "        continue\n",
    "    print(\"{} Odd numbers in the above list\".format{num})\n",
    "else:\n",
    "    print(\"else-block\")"
   ]
  },
  {
   "cell_type": "code",
   "execution_count": 12,
   "metadata": {},
   "outputs": [
    {
     "name": "stdout",
     "output_type": "stream",
     "text": [
      "Enter the number: 48\n",
      "1\n",
      "2\n",
      "3\n",
      "4\n",
      "5 non - factor\n",
      "6\n",
      "7 non - factor\n",
      "8\n",
      "9 non - factor\n",
      "10 non - factor\n",
      "11 non - factor\n",
      "12\n",
      "13 non - factor\n",
      "14 non - factor\n",
      "15 non - factor\n",
      "16\n",
      "17 non - factor\n",
      "18 non - factor\n",
      "19 non - factor\n",
      "20 non - factor\n",
      "21 non - factor\n",
      "22 non - factor\n",
      "23 non - factor\n",
      "24\n",
      "25 non - factor\n",
      "26 non - factor\n",
      "27 non - factor\n",
      "28 non - factor\n",
      "29 non - factor\n",
      "30 non - factor\n",
      "31 non - factor\n",
      "32 non - factor\n",
      "33 non - factor\n",
      "34 non - factor\n",
      "35 non - factor\n",
      "36 non - factor\n",
      "37 non - factor\n",
      "38 non - factor\n",
      "39 non - factor\n",
      "40 non - factor\n",
      "41 non - factor\n",
      "42 non - factor\n",
      "43 non - factor\n",
      "44 non - factor\n",
      "45 non - factor\n",
      "46 non - factor\n",
      "47 non - factor\n"
     ]
    }
   ],
   "source": [
    "num=int(input(\"Enter the number: \"))\n",
    "for i in range(1,num):\n",
    "    if num%i==0:\n",
    "        print(i)\n",
    "        continue;\n",
    "        \n",
    "    else:\n",
    "        print(\"{} non - factor\".format(i))\n",
    "    i+=1"
   ]
  },
  {
   "cell_type": "code",
   "execution_count": null,
   "metadata": {},
   "outputs": [],
   "source": []
  },
  {
   "cell_type": "code",
   "execution_count": null,
   "metadata": {},
   "outputs": [],
   "source": []
  }
 ],
 "metadata": {
  "kernelspec": {
   "display_name": "Python 3",
   "language": "python",
   "name": "python3"
  },
  "language_info": {
   "codemirror_mode": {
    "name": "ipython",
    "version": 3
   },
   "file_extension": ".py",
   "mimetype": "text/x-python",
   "name": "python",
   "nbconvert_exporter": "python",
   "pygments_lexer": "ipython3",
   "version": "3.7.3"
  }
 },
 "nbformat": 4,
 "nbformat_minor": 2
}
