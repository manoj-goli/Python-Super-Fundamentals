{
 "cells": [
  {
   "cell_type": "markdown",
   "metadata": {},
   "source": [
    "**Tuples**\n",
    "Tuples going to be something new and interesting if you are C or JAVA programmer. I can't wait to show and tell you about Tuples and operations with it. Are curious to know? Let's go! \n",
    "\n",
    "\n",
    "-A tuple is similar to list\n",
    "\n",
    "-The diffence between the two is that we can't change the elements of tuple once it is assigned (non-mutable) whereas in the list, elements can be changed (mutable)"
   ]
  },
  {
   "cell_type": "code",
   "execution_count": 4,
   "metadata": {},
   "outputs": [
    {
     "name": "stdout",
     "output_type": "stream",
     "text": [
      "(1, 2, 3)\n",
      "(1, 'raju', 28.8888, 'abc')\n",
      "(1, (2, 3, 4), [1, 'raju', 28, 'abc'])\n",
      "<class 'tuple'>\n"
     ]
    }
   ],
   "source": [
    "#TUPLE CREATION\n",
    "\n",
    "#empty tuple\n",
    "t1 = ()\n",
    "\n",
    "#tuple having integers\n",
    "t2 = (1, 2, 3)\n",
    "print(t2)\n",
    "\n",
    "#tuple with mixed datatypes\n",
    "t3 = (1, 'raju', 28.8888, 'abc')\n",
    "print(t3)\n",
    "\n",
    "#nested tuple\n",
    "t4 = (1, (2, 3, 4), [1, 'raju', 28, 'abc'])\n",
    "print(t4)\n",
    "\n",
    "print(type(t4))"
   ]
  },
  {
   "cell_type": "code",
   "execution_count": 5,
   "metadata": {},
   "outputs": [
    {
     "name": "stdout",
     "output_type": "stream",
     "text": [
      "<class 'str'>\n"
     ]
    }
   ],
   "source": [
    "t5 = ('manoj')\n",
    "print(type(t5))"
   ]
  },
  {
   "cell_type": "markdown",
   "metadata": {},
   "source": [
    "Have you seen the above output?, its not tuple even if I declared in paranthesis ()? Why its still considering that as a string?; what should I do to make the element a tuple?\n",
    "\n",
    "try,\n",
    "t5 = ('manoj',)\n",
    "\n",
    "parathesis alone..not enough, a comma is needed to system to identify it a a tuple"
   ]
  },
  {
   "cell_type": "code",
   "execution_count": 8,
   "metadata": {},
   "outputs": [
    {
     "name": "stdout",
     "output_type": "stream",
     "text": [
      "Manoj\n",
      "Ottawa\n"
     ]
    }
   ],
   "source": [
    "#ACCESSING ELEMENTS IN THE TUPLE\n",
    "\n",
    "t6 = ('batman', 'Manoj', '8055', 'boss', 'Ottawa')                 #Syntax is always important to remember\n",
    "\n",
    "print(t6[1])\n",
    "\n",
    "#negative index\n",
    "print(t6[-1]) #print last element in a tuple; similar to the LISTS"
   ]
  },
  {
   "cell_type": "code",
   "execution_count": 14,
   "metadata": {},
   "outputs": [
    {
     "name": "stdout",
     "output_type": "stream",
     "text": [
      "('Calgary', 'BC', 'Alberta', 'Nunavut')\n",
      "Alberta\n"
     ]
    }
   ],
   "source": [
    "#nested tuple\n",
    "t7 = ('Ottawa', ('Calgary','BC','Alberta','Nunavut'), 'Montreal')\n",
    "\n",
    "print(t7[1]) #As the 2nd element in the tuple is a sub-tuple; it prints the sub-tuple\n",
    "\n",
    "print(t7[1][2]) #this is how we access an subtuples\n",
    "\n"
   ]
  },
  {
   "cell_type": "code",
   "execution_count": 15,
   "metadata": {},
   "outputs": [
    {
     "name": "stdout",
     "output_type": "stream",
     "text": [
      "(1, 2, 5)\n",
      "(8055, 1, 2, 5, 6, 77)\n",
      "(8055, 1, 2, 5, 6, 77, 88, 99)\n"
     ]
    }
   ],
   "source": [
    "#Slicing\n",
    "t8 = (8055,1,2,5,6,77,88,99)\n",
    "\n",
    "print(t8[1:4])\n",
    "\n",
    "#print elements from starting to 2nd last elements\n",
    "print(t8[:-2])\n",
    "\n",
    "#print elements from starting to end\n",
    "print(t8[:])\n",
    "\n",
    "\n",
    "#Slicing is very similar to what we have discussed in the lists"
   ]
  },
  {
   "cell_type": "markdown",
   "metadata": {},
   "source": [
    "#Changing or modifying a TUPLE\n",
    "\n",
    "unlike lists, tuples are immutable\n",
    "    This means that elements of a tuple cannot be changed once it has been assigned. But, if the element is itself a mutable datatype like list, its nested items can be changed."
   ]
  },
  {
   "cell_type": "code",
   "execution_count": 16,
   "metadata": {},
   "outputs": [
    {
     "ename": "TypeError",
     "evalue": "'tuple' object does not support item assignment",
     "output_type": "error",
     "traceback": [
      "\u001b[1;31m---------------------------------------------------------------------------\u001b[0m",
      "\u001b[1;31mTypeError\u001b[0m                                 Traceback (most recent call last)",
      "\u001b[1;32m<ipython-input-16-bf6173273a42>\u001b[0m in \u001b[0;36m<module>\u001b[1;34m\u001b[0m\n\u001b[0;32m      1\u001b[0m \u001b[1;31m#attempt to change\u001b[0m\u001b[1;33m\u001b[0m\u001b[1;33m\u001b[0m\u001b[1;33m\u001b[0m\u001b[0m\n\u001b[1;32m----> 2\u001b[1;33m \u001b[0mt8\u001b[0m\u001b[1;33m[\u001b[0m\u001b[1;36m2\u001b[0m\u001b[1;33m]\u001b[0m \u001b[1;33m=\u001b[0m \u001b[1;34m'x'\u001b[0m \u001b[1;31m#will get TypeError\u001b[0m\u001b[1;33m\u001b[0m\u001b[1;33m\u001b[0m\u001b[0m\n\u001b[0m",
      "\u001b[1;31mTypeError\u001b[0m: 'tuple' object does not support item assignment"
     ]
    }
   ],
   "source": [
    "#attempt to change\n",
    "t8[2] = 'x' #will get TypeError"
   ]
  },
  {
   "cell_type": "code",
   "execution_count": 17,
   "metadata": {},
   "outputs": [
    {
     "ename": "TypeError",
     "evalue": "'tuple' object does not support item assignment",
     "output_type": "error",
     "traceback": [
      "\u001b[1;31m---------------------------------------------------------------------------\u001b[0m",
      "\u001b[1;31mTypeError\u001b[0m                                 Traceback (most recent call last)",
      "\u001b[1;32m<ipython-input-17-0e8a2808bb42>\u001b[0m in \u001b[0;36m<module>\u001b[1;34m\u001b[0m\n\u001b[1;32m----> 1\u001b[1;33m \u001b[0mt7\u001b[0m\u001b[1;33m[\u001b[0m\u001b[1;36m1\u001b[0m\u001b[1;33m]\u001b[0m\u001b[1;33m[\u001b[0m\u001b[1;36m2\u001b[0m\u001b[1;33m]\u001b[0m\u001b[1;33m=\u001b[0m\u001b[1;34m'NOVA SCOTIA'\u001b[0m\u001b[1;33m\u001b[0m\u001b[1;33m\u001b[0m\u001b[0m\n\u001b[0m",
      "\u001b[1;31mTypeError\u001b[0m: 'tuple' object does not support item assignment"
     ]
    }
   ],
   "source": [
    "t7[1][2]='NOVA SCOTIA'"
   ]
  },
  {
   "cell_type": "code",
   "execution_count": 20,
   "metadata": {},
   "outputs": [
    {
     "name": "stdout",
     "output_type": "stream",
     "text": [
      "('manoj', 'boss', 'batman', [1, 2, 4, 5, 'gm'])\n",
      "('manoj', 'boss', 'batman', [1, 2, 4, 'MANOJ', 'gm'])\n"
     ]
    }
   ],
   "source": [
    "t9=('manoj','boss','batman',[1,2,4,5,'gm'])\n",
    "print(t9)\n",
    "t9[3][3]=\"MANOJ\"\n",
    "print(t9)\n",
    "\n",
    "#Not the element 'MANOJ' assigned to the tuple; No need to get confuse, the is a minute change in tuple t9 and tuple t7;\n",
    "#sub-tuple and sub string;\n",
    "#A we know string or sub-string can be modified not tuple; so t9 tuple actually has a List inside it not a sub-tuple"
   ]
  },
  {
   "cell_type": "code",
   "execution_count": 21,
   "metadata": {},
   "outputs": [
    {
     "name": "stdout",
     "output_type": "stream",
     "text": [
      "('MANOJ', 'batman', 8055, 4, 5, 6)\n"
     ]
    }
   ],
   "source": [
    "#concatinating tuples\n",
    "\n",
    "t10 = ('MANOJ','batman',8055 ) + (4, 5, 6)\n",
    "print(t10)"
   ]
  },
  {
   "cell_type": "code",
   "execution_count": 23,
   "metadata": {},
   "outputs": [
    {
     "name": "stdout",
     "output_type": "stream",
     "text": [
      "('MANOJ', 'batman', 8055, 4, 5, 6, 'MANOJ', 'batman', 8055, 4, 5, 6, 'MANOJ', 'batman', 8055, 4, 5, 6, 'MANOJ', 'batman', 8055, 4, 5, 6, 'MANOJ', 'batman', 8055, 4, 5, 6, 'MANOJ', 'batman', 8055, 4, 5, 6, 'MANOJ', 'batman', 8055, 4, 5, 6, 'MANOJ', 'batman', 8055, 4, 5, 6, 'MANOJ', 'batman', 8055, 4, 5, 6, 'MANOJ', 'batman', 8055, 4, 5, 6)\n",
      "('BATMAN', 'BATMAN', 'BATMAN', 'BATMAN', 'BATMAN', 'BATMAN', 'BATMAN', 'BATMAN', 'BATMAN', 'BATMAN', 'BATMAN', 'BATMAN', 'BATMAN', 'BATMAN', 'BATMAN', 'BATMAN', 'BATMAN', 'BATMAN', 'BATMAN', 'BATMAN', 'BATMAN', 'BATMAN', 'BATMAN', 'BATMAN', 'BATMAN', 'BATMAN', 'BATMAN', 'BATMAN', 'BATMAN', 'BATMAN', 'BATMAN', 'BATMAN', 'BATMAN', 'BATMAN', 'BATMAN', 'BATMAN', 'BATMAN', 'BATMAN', 'BATMAN', 'BATMAN', 'BATMAN', 'BATMAN', 'BATMAN', 'BATMAN', 'BATMAN', 'BATMAN', 'BATMAN', 'BATMAN', 'BATMAN', 'BATMAN')\n"
     ]
    }
   ],
   "source": [
    "#repeat the elements in a tuple for a given number of times using the * operator.\n",
    "print(t10*10)\n",
    "\n",
    "\n",
    "t11=(('BATMAN',)*50)\n",
    "print(t11)"
   ]
  },
  {
   "cell_type": "markdown",
   "metadata": {},
   "source": [
    "TUPLE DELETE\n",
    "\n",
    "we cannot change the elements in a tuple. \n",
    "That also means we cannot delete or remove items from a tuple."
   ]
  },
  {
   "cell_type": "code",
   "execution_count": 25,
   "metadata": {},
   "outputs": [],
   "source": [
    "\n",
    "#delete entire tuple using del keyword\n",
    "t12 = (8055, 'MANOJ', 3, 4, 5, 6)\n",
    "\n",
    "#delete entire tuple\n",
    "del t12"
   ]
  },
  {
   "cell_type": "code",
   "execution_count": 28,
   "metadata": {},
   "outputs": [
    {
     "data": {
      "text/plain": [
       "50"
      ]
     },
     "execution_count": 28,
     "metadata": {},
     "output_type": "execute_result"
    }
   ],
   "source": [
    "#TUPLE COUNT\n",
    "t11.count('BATMAN')\n",
    "\n",
    "#Tells the frequency\n",
    "\n"
   ]
  },
  {
   "cell_type": "code",
   "execution_count": 31,
   "metadata": {},
   "outputs": [
    {
     "name": "stdout",
     "output_type": "stream",
     "text": [
      "2\n",
      "6\n"
     ]
    }
   ],
   "source": [
    "#Tuple Indexing\n",
    "\n",
    "\n",
    "t = (1, 2, 3, 1, 3, 3, 4, 1)\n",
    "\n",
    "print(t.index(3)) \n",
    "print(t.index(4))\n",
    "\n",
    "#this is know the 1st representing index of the desired element"
   ]
  },
  {
   "cell_type": "code",
   "execution_count": 34,
   "metadata": {},
   "outputs": [
    {
     "name": "stdout",
     "output_type": "stream",
     "text": [
      "True\n",
      "True\n",
      "False\n"
     ]
    }
   ],
   "source": [
    "#Tuple MEMBERSHIP\n",
    "\n",
    "#This validates the membership of the tuple; \n",
    "print(1 in t)\n",
    "print('BATMAN' in t11)\n",
    "print('Hero' in t11)"
   ]
  },
  {
   "cell_type": "markdown",
   "metadata": {},
   "source": [
    "Built in Functions"
   ]
  },
  {
   "cell_type": "code",
   "execution_count": 40,
   "metadata": {},
   "outputs": [
    {
     "name": "stdout",
     "output_type": "stream",
     "text": [
      "8\n",
      "[1, 1, 1, 2, 3, 3, 3, 4]\n",
      "4\n",
      "1\n",
      "18\n",
      "BATMAN\n"
     ]
    },
    {
     "ename": "TypeError",
     "evalue": "unsupported operand type(s) for +: 'int' and 'str'",
     "output_type": "error",
     "traceback": [
      "\u001b[1;31m---------------------------------------------------------------------------\u001b[0m",
      "\u001b[1;31mTypeError\u001b[0m                                 Traceback (most recent call last)",
      "\u001b[1;32m<ipython-input-40-9f9a6bc462b6>\u001b[0m in \u001b[0;36m<module>\u001b[1;34m\u001b[0m\n\u001b[0;32m     11\u001b[0m \u001b[0mprint\u001b[0m\u001b[1;33m(\u001b[0m\u001b[0msum\u001b[0m\u001b[1;33m(\u001b[0m\u001b[0mt\u001b[0m\u001b[1;33m)\u001b[0m\u001b[1;33m)\u001b[0m\u001b[1;33m\u001b[0m\u001b[1;33m\u001b[0m\u001b[0m\n\u001b[0;32m     12\u001b[0m \u001b[0mprint\u001b[0m\u001b[1;33m(\u001b[0m\u001b[0mmax\u001b[0m\u001b[1;33m(\u001b[0m\u001b[0mt11\u001b[0m\u001b[1;33m)\u001b[0m\u001b[1;33m)\u001b[0m\u001b[1;33m\u001b[0m\u001b[1;33m\u001b[0m\u001b[0m\n\u001b[1;32m---> 13\u001b[1;33m \u001b[0mprint\u001b[0m\u001b[1;33m(\u001b[0m\u001b[0msum\u001b[0m\u001b[1;33m(\u001b[0m\u001b[0mt11\u001b[0m\u001b[1;33m)\u001b[0m\u001b[1;33m)\u001b[0m\u001b[1;33m\u001b[0m\u001b[1;33m\u001b[0m\u001b[0m\n\u001b[0m",
      "\u001b[1;31mTypeError\u001b[0m: unsupported operand type(s) for +: 'int' and 'str'"
     ]
    }
   ],
   "source": [
    "\n",
    "#TUPLE LENGTH\n",
    "print(len(t))\n",
    "\n",
    "#TUPLE SORT\n",
    "print(sorted(t))\n",
    "\n",
    "print(max(t))\n",
    "print(min(t))\n",
    "print(sum(t))\n",
    "print(max(t11))\n",
    "print(sum(t11))"
   ]
  },
  {
   "cell_type": "markdown",
   "metadata": {},
   "source": [
    "**SETS**\n",
    "\n",
    "Set creation..(syntax{})\n",
    "\n",
    "-sets doesnt allow duplicates; it allow only one instance of each element\n",
    "-Sets doesnt support indexing\n"
   ]
  },
  {
   "cell_type": "code",
   "execution_count": 42,
   "metadata": {},
   "outputs": [
    {
     "name": "stdout",
     "output_type": "stream",
     "text": [
      "{2, 3, 4, 5, 6, 77, 88}\n",
      "<class 'set'>\n"
     ]
    }
   ],
   "source": [
    "#set of creation\n",
    "s = {2,3,4,5,6,77,88,88}\n",
    "print(s)\n",
    "print(type(s))"
   ]
  },
  {
   "cell_type": "code",
   "execution_count": 43,
   "metadata": {},
   "outputs": [
    {
     "ename": "TypeError",
     "evalue": "'set' object is not subscriptable",
     "output_type": "error",
     "traceback": [
      "\u001b[1;31m---------------------------------------------------------------------------\u001b[0m",
      "\u001b[1;31mTypeError\u001b[0m                                 Traceback (most recent call last)",
      "\u001b[1;32m<ipython-input-43-22d0618a89be>\u001b[0m in \u001b[0;36m<module>\u001b[1;34m\u001b[0m\n\u001b[0;32m      4\u001b[0m \u001b[1;33m\u001b[0m\u001b[0m\n\u001b[0;32m      5\u001b[0m \u001b[1;31m#set object doesn't support indexing\u001b[0m\u001b[1;33m\u001b[0m\u001b[1;33m\u001b[0m\u001b[1;33m\u001b[0m\u001b[0m\n\u001b[1;32m----> 6\u001b[1;33m \u001b[0mprint\u001b[0m\u001b[1;33m(\u001b[0m\u001b[0ms\u001b[0m\u001b[1;33m[\u001b[0m\u001b[1;36m1\u001b[0m\u001b[1;33m]\u001b[0m\u001b[1;33m)\u001b[0m \u001b[1;31m#will get TypeError\u001b[0m\u001b[1;33m\u001b[0m\u001b[1;33m\u001b[0m\u001b[0m\n\u001b[0m",
      "\u001b[1;31mTypeError\u001b[0m: 'set' object is not subscriptable"
     ]
    }
   ],
   "source": [
    "#we can add single element using add() method and \n",
    "#add multiple elements using update() method\n",
    "s = {1, 3}\n",
    "\n",
    "#set object doesn't support indexing\n",
    "print(s[1]) #will get TypeError"
   ]
  },
  {
   "cell_type": "markdown",
   "metadata": {},
   "source": [
    "Add single element and multiple elements using **add** and **update** respectively\n",
    "\n",
    "adding single element is quite regular but adding multiple element, note that we are adding by making the elements as a LIST(check the belw syntax of multiple elements)"
   ]
  },
  {
   "cell_type": "code",
   "execution_count": 61,
   "metadata": {},
   "outputs": [
    {
     "name": "stdout",
     "output_type": "stream",
     "text": [
      "{8055}\n",
      "{33, 2345, 11, 44, 55, 22, 8055}\n"
     ]
    }
   ],
   "source": [
    "#add element\n",
    "s.add(8055)\n",
    "print(s)\n",
    "\n",
    "#add multiple elements\n",
    "s.update([8055,2345,11,22,33,44,55])\n",
    "print(s)"
   ]
  },
  {
   "cell_type": "code",
   "execution_count": 50,
   "metadata": {},
   "outputs": [
    {
     "ename": "TypeError",
     "evalue": "remove() takes exactly one argument (3 given)",
     "output_type": "error",
     "traceback": [
      "\u001b[1;31m---------------------------------------------------------------------------\u001b[0m",
      "\u001b[1;31mTypeError\u001b[0m                                 Traceback (most recent call last)",
      "\u001b[1;32m<ipython-input-50-bdbdec609db7>\u001b[0m in \u001b[0;36m<module>\u001b[1;34m\u001b[0m\n\u001b[0;32m      2\u001b[0m \u001b[1;33m\u001b[0m\u001b[0m\n\u001b[0;32m      3\u001b[0m \u001b[1;31m#Respective elements can be removed from the SETS using remove() and discard(). So lets see how it works...,\u001b[0m\u001b[1;33m\u001b[0m\u001b[1;33m\u001b[0m\u001b[1;33m\u001b[0m\u001b[0m\n\u001b[1;32m----> 4\u001b[1;33m \u001b[0ms\u001b[0m\u001b[1;33m.\u001b[0m\u001b[0mremove\u001b[0m\u001b[1;33m(\u001b[0m\u001b[1;36m8055\u001b[0m\u001b[1;33m,\u001b[0m\u001b[1;36m3\u001b[0m\u001b[1;33m,\u001b[0m\u001b[1;36m11\u001b[0m\u001b[1;33m)\u001b[0m\u001b[1;33m\u001b[0m\u001b[1;33m\u001b[0m\u001b[0m\n\u001b[0m\u001b[0;32m      5\u001b[0m \u001b[0mprint\u001b[0m\u001b[1;33m(\u001b[0m\u001b[0ms\u001b[0m\u001b[1;33m)\u001b[0m\u001b[1;33m\u001b[0m\u001b[1;33m\u001b[0m\u001b[0m\n",
      "\u001b[1;31mTypeError\u001b[0m: remove() takes exactly one argument (3 given)"
     ]
    }
   ],
   "source": [
    "#REMOVING ELEMENTS FROM THE SET\n",
    "\n",
    "#Respective elements can be removed from the SETS using remove() and discard(). So lets see how it works...,\n",
    "s.remove(8055,3,11)\n",
    "print(s)"
   ]
  },
  {
   "cell_type": "code",
   "execution_count": 58,
   "metadata": {},
   "outputs": [
    {
     "name": "stdout",
     "output_type": "stream",
     "text": [
      "{22}\n"
     ]
    }
   ],
   "source": [
    "s.discard(7)\n",
    "print(s)\n",
    "\n",
    "\n",
    "\n",
    "#the difference between discard() and remove() in sets are with errors,. i.e when given an element which is not there in the set, \n",
    "#remove throws error; where as discard will not, try it\n"
   ]
  },
  {
   "cell_type": "code",
   "execution_count": 63,
   "metadata": {},
   "outputs": [
    {
     "name": "stdout",
     "output_type": "stream",
     "text": [
      "{2345, 11, 44, 55, 22}\n"
     ]
    }
   ],
   "source": [
    "#we can also remove elements using POP; which random\n",
    "\n",
    "s.pop()\n",
    "print(s)"
   ]
  },
  {
   "cell_type": "code",
   "execution_count": 64,
   "metadata": {},
   "outputs": [
    {
     "name": "stdout",
     "output_type": "stream",
     "text": [
      "set()\n"
     ]
    }
   ],
   "source": [
    "#to remove all the elements use clear()\n",
    "s.clear()\n",
    "print(s)"
   ]
  },
  {
   "cell_type": "code",
   "execution_count": 67,
   "metadata": {},
   "outputs": [
    {
     "name": "stdout",
     "output_type": "stream",
     "text": [
      "{2, 3, 4, 5, 6, 7, 8, 9}\n",
      "{5, 6}\n",
      "{5, 6}\n"
     ]
    }
   ],
   "source": [
    "#Python Set Operations\n",
    "\n",
    "\n",
    "set1={2,3,4,5,6}\n",
    "set2={5,6,7,8,9}\n",
    "\n",
    "#union of 2 sets using |\n",
    "\n",
    "print(set1|set2)\n",
    "print(set1&set2)\n",
    "\n",
    "#for intersesction we can also use\n",
    "print(set1.intersection(set2))"
   ]
  },
  {
   "cell_type": "code",
   "execution_count": 68,
   "metadata": {},
   "outputs": [
    {
     "name": "stdout",
     "output_type": "stream",
     "text": [
      "{2, 3, 4, 7, 8, 9}\n"
     ]
    }
   ],
   "source": [
    "\"\"\"symmetric difference: set of elements in both set1 and set2 \n",
    "#except those that are common in both.\"\"\"\n",
    "\n",
    "#use ^ operator\n",
    "\n",
    "print(set1^set2)\n",
    "\n",
    "#whaever is in common of both cells has been vomitted..!"
   ]
  },
  {
   "cell_type": "code",
   "execution_count": 69,
   "metadata": {},
   "outputs": [
    {
     "name": "stdout",
     "output_type": "stream",
     "text": [
      "set 'x' is subset of 'y' ? False\n",
      "set 'y' is subset of 'x' ? True\n"
     ]
    }
   ],
   "source": [
    "#find issubset()\n",
    "x = {\"a\",\"b\",\"c\",\"d\",\"e\"}\n",
    "y = {\"c\",\"d\"}\n",
    "\n",
    "print(\"set 'x' is subset of 'y' ?\", x.issubset(y)) #check x is subset of y\n",
    "\n",
    "#check y is subset of x\n",
    "print(\"set 'y' is subset of 'x' ?\", y.issubset(x))"
   ]
  },
  {
   "cell_type": "markdown",
   "metadata": {},
   "source": [
    "Next **FROZEN SETS**; it cant be able to alterate or modify the data, but you can still perform all sorts of oprations "
   ]
  }
 ],
 "metadata": {
  "kernelspec": {
   "display_name": "Python 3",
   "language": "python",
   "name": "python3"
  },
  "language_info": {
   "codemirror_mode": {
    "name": "ipython",
    "version": 3
   },
   "file_extension": ".py",
   "mimetype": "text/x-python",
   "name": "python",
   "nbconvert_exporter": "python",
   "pygments_lexer": "ipython3",
   "version": "3.7.3"
  }
 },
 "nbformat": 4,
 "nbformat_minor": 2
}
